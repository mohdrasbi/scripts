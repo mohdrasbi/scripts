{
 "cells": [
  {
   "cell_type": "markdown",
   "metadata": {},
   "source": [
    "purpose: filter out similar images"
   ]
  },
  {
   "cell_type": "code",
   "execution_count": null,
   "metadata": {},
   "outputs": [],
   "source": [
    "from PIL import Image\n",
    "import imagehash\n",
    "import glob\n",
    "import ntpath\n",
    "import os"
   ]
  },
  {
   "cell_type": "code",
   "execution_count": null,
   "metadata": {},
   "outputs": [],
   "source": [
    "def get_files_dict(path, buf_size):\n",
    "    files = []\n",
    "    for file in glob.glob(f\"{path}/*\"):\n",
    "        files.append(file)\n",
    "    files = sorted(files)\n",
    "    files_dict = {}\n",
    "    for i in range(len(files)):\n",
    "        start = i+1\n",
    "        end = i+buf_size\n",
    "        if end >= len(files):\n",
    "            end = len(files) - 1\n",
    "\n",
    "        files_dict[files[i]] = files[start:end]\n",
    "\n",
    "    return files_dict"
   ]
  },
  {
   "cell_type": "markdown",
   "metadata": {},
   "source": [
    "### Global vars"
   ]
  },
  {
   "cell_type": "code",
   "execution_count": null,
   "metadata": {},
   "outputs": [],
   "source": [
    "NUM_RUNS = 3\n",
    "BUF_SIZE = 10"
   ]
  },
  {
   "cell_type": "markdown",
   "metadata": {},
   "source": [
    "## Make dirs "
   ]
  },
  {
   "cell_type": "code",
   "execution_count": null,
   "metadata": {},
   "outputs": [],
   "source": [
    "for i in range(1, NUM_RUNS+1):\n",
    "    dirname = f\"run{i}\"\n",
    "    if os.path.exists(dirname):\n",
    "        os.removedirs(dirname)\n",
    "    os.makedirs(dirname)"
   ]
  },
  {
   "cell_type": "markdown",
   "metadata": {},
   "source": [
    "## Load file paths and store in dict"
   ]
  },
  {
   "cell_type": "code",
   "execution_count": null,
   "metadata": {},
   "outputs": [],
   "source": [
    "input_dir = \"\"\n",
    "dirs = [input_dir]\n",
    "for i in range(1, NUM_RUNS+1):\n",
    "    dirs.append(f\"run{i}\")"
   ]
  },
  {
   "cell_type": "code",
   "execution_count": null,
   "metadata": {},
   "outputs": [],
   "source": [
    "cutoff = 10"
   ]
  },
  {
   "cell_type": "code",
   "execution_count": null,
   "metadata": {},
   "outputs": [],
   "source": [
    "for i in range(len(dirs)-1):\n",
    "    _in = dirs[i]\n",
    "    _out = dirs[i+1]\n",
    "    \n",
    "    files_dict = get_files_dict(_in, BUF_SIZE)\n",
    "    \n",
    "    similars = []\n",
    "    for f1 in files_dict:\n",
    "        if f1 in similars:\n",
    "            continue\n",
    "\n",
    "        img1 = Image.open(f1)\n",
    "        hash1 = imagehash.average_hash(img1)\n",
    "\n",
    "        img1.save(\"{}/{}\".format(_out, ntpath.basename(f1)))\n",
    "\n",
    "        for f2 in files_dict[f1]:\n",
    "            img2 = Image.open(f2)\n",
    "            hash2 = imagehash.average_hash(img2)\n",
    "\n",
    "            if hash1-hash2 < 12:\n",
    "                similars.append(f2)\n",
    "        \n",
    "        print(\"RUN {} - similars: {}\".format(i+1, len(similars)), end='\\r')\n"
   ]
  },
  {
   "cell_type": "code",
   "execution_count": null,
   "metadata": {},
   "outputs": [],
   "source": []
  }
 ],
 "metadata": {
  "kernelspec": {
   "display_name": "Python 3",
   "language": "python",
   "name": "python3"
  },
  "language_info": {
   "codemirror_mode": {
    "name": "ipython",
    "version": 3
   },
   "file_extension": ".py",
   "mimetype": "text/x-python",
   "name": "python",
   "nbconvert_exporter": "python",
   "pygments_lexer": "ipython3",
   "version": "3.9.1"
  }
 },
 "nbformat": 4,
 "nbformat_minor": 4
}
