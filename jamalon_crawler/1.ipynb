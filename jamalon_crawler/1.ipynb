{
 "cells": [
  {
   "cell_type": "code",
   "execution_count": 121,
   "metadata": {},
   "outputs": [],
   "source": [
    "from selenium import webdriver\n",
    "from selenium.webdriver.common.keys import Keys\n",
    "from selenium.common.exceptions import NoSuchElementException\n",
    "import time\n",
    "import json\n",
    "import requests\n",
    "\n",
    "from bs4 import BeautifulSoup"
   ]
  },
  {
   "cell_type": "markdown",
   "metadata": {},
   "source": [
    "## Functions"
   ]
  },
  {
   "cell_type": "code",
   "execution_count": 319,
   "metadata": {},
   "outputs": [],
   "source": [
    "def get_urls(driver):\n",
    "    base_url = \"https://jamalon.com/en/best-seller-books-2019?p={}&___from_store=ar\"\n",
    "    book_urls = []\n",
    "    for i in range(1, 6):\n",
    "        driver.get(base_url.format(i))\n",
    "\n",
    "        books = driver.find_elements_by_class_name(\"book\")\n",
    "        for book in books:\n",
    "            book_urls.append(book.find_element_by_tag_name(\"a\").get_attribute(\"href\"))\n",
    "        \n",
    "        time.sleep(0.5)\n",
    "    return book_urls\n",
    "\n",
    "def get_cookie(driver, url):\n",
    "    driver.get(url)\n",
    "    title = driver.find_element_by_xpath('//*[@id=\"content\"]/section/div/div/div[2]/div[1]/div/div[1]').text\n",
    "    sku = driver.find_element_by_xpath('//*[@id=\"content\"]/section/div/div/div[2]/div[2]/div[2]/div[1]/div[2]/ul/li[2]').text\n",
    "    isbn = driver.find_element_by_xpath('//*[@id=\"content\"]/section/div/div/div[2]/div[2]/div[2]/div[1]/div[2]/ul/li[5]').text\n",
    "    \n",
    "    data[title] = {}\n",
    "    data[title][\"sku\"] = sku\n",
    "    data[title][\"isbn\"] = isbn\n",
    "    \n",
    "    add_to_cart_button = driver.find_element_by_class_name(\"btn-cart\")\n",
    "    driver.execute_script(\"arguments[0].scrollIntoView();\", add_to_cart_button)\n",
    "    add_to_cart_button.click()\n",
    "    \n",
    "    return {\n",
    "        \"currency\": \"USD\",\n",
    "        \"currency_code\": \"VVNE\",\n",
    "        \"frontend\": driver.get_cookie(\"frontend\")[\"value\"],\n",
    "        \"__utmt\": \"1\",\n",
    "        \"store\": \"en\"\n",
    "    }\n",
    "\n",
    "def clear_shopping_cart():\n",
    "    driver.get('https://jamalon.com/en/checkout/cart/')\n",
    "    items_to_remove = driver.find_elements_by_xpath('//a[@title=\"Remove item\"]')\n",
    "    for item in items_to_remove:\n",
    "        item.click()\n",
    "        driver.switch_to.alert.accept()\n",
    "    \n",
    "    time.sleep(2)"
   ]
  },
  {
   "cell_type": "markdown",
   "metadata": {},
   "source": [
    "## Main"
   ]
  },
  {
   "cell_type": "code",
   "execution_count": 325,
   "metadata": {},
   "outputs": [],
   "source": [
    "driver = webdriver.Firefox()"
   ]
  },
  {
   "cell_type": "markdown",
   "metadata": {},
   "source": [
    "### Get URLs"
   ]
  },
  {
   "cell_type": "code",
   "execution_count": 324,
   "metadata": {
    "scrolled": true
   },
   "outputs": [
    {
     "ename": "KeyboardInterrupt",
     "evalue": "",
     "output_type": "error",
     "traceback": [
      "\u001b[0;31m---------------------------------------------------------------------------\u001b[0m",
      "\u001b[0;31mKeyboardInterrupt\u001b[0m                         Traceback (most recent call last)",
      "\u001b[0;32m<ipython-input-324-c890595478d2>\u001b[0m in \u001b[0;36m<module>\u001b[0;34m\u001b[0m\n\u001b[0;32m----> 1\u001b[0;31m \u001b[0murls\u001b[0m \u001b[0;34m=\u001b[0m \u001b[0mget_urls\u001b[0m\u001b[0;34m(\u001b[0m\u001b[0mdriver\u001b[0m\u001b[0;34m)\u001b[0m\u001b[0;34m\u001b[0m\u001b[0;34m\u001b[0m\u001b[0m\n\u001b[0m\u001b[1;32m      2\u001b[0m \u001b[0murls\u001b[0m \u001b[0;34m=\u001b[0m \u001b[0mlist\u001b[0m\u001b[0;34m(\u001b[0m\u001b[0mmap\u001b[0m\u001b[0;34m(\u001b[0m\u001b[0;32mlambda\u001b[0m \u001b[0mx\u001b[0m\u001b[0;34m:\u001b[0m \u001b[0mx\u001b[0m\u001b[0;34m.\u001b[0m\u001b[0mreplace\u001b[0m\u001b[0;34m(\u001b[0m\u001b[0;34m'/ar/'\u001b[0m\u001b[0;34m,\u001b[0m \u001b[0;34m'/en/'\u001b[0m\u001b[0;34m)\u001b[0m\u001b[0;34m,\u001b[0m \u001b[0murls\u001b[0m\u001b[0;34m)\u001b[0m\u001b[0;34m)\u001b[0m\u001b[0;34m\u001b[0m\u001b[0;34m\u001b[0m\u001b[0m\n",
      "\u001b[0;32m<ipython-input-319-f7ffcd66b752>\u001b[0m in \u001b[0;36mget_urls\u001b[0;34m(driver)\u001b[0m\n\u001b[1;32m      3\u001b[0m     \u001b[0mbook_urls\u001b[0m \u001b[0;34m=\u001b[0m \u001b[0;34m[\u001b[0m\u001b[0;34m]\u001b[0m\u001b[0;34m\u001b[0m\u001b[0;34m\u001b[0m\u001b[0m\n\u001b[1;32m      4\u001b[0m     \u001b[0;32mfor\u001b[0m \u001b[0mi\u001b[0m \u001b[0;32min\u001b[0m \u001b[0mrange\u001b[0m\u001b[0;34m(\u001b[0m\u001b[0;36m1\u001b[0m\u001b[0;34m,\u001b[0m \u001b[0;36m6\u001b[0m\u001b[0;34m)\u001b[0m\u001b[0;34m:\u001b[0m\u001b[0;34m\u001b[0m\u001b[0;34m\u001b[0m\u001b[0m\n\u001b[0;32m----> 5\u001b[0;31m         \u001b[0mdriver\u001b[0m\u001b[0;34m.\u001b[0m\u001b[0mget\u001b[0m\u001b[0;34m(\u001b[0m\u001b[0mbase_url\u001b[0m\u001b[0;34m.\u001b[0m\u001b[0mformat\u001b[0m\u001b[0;34m(\u001b[0m\u001b[0mi\u001b[0m\u001b[0;34m)\u001b[0m\u001b[0;34m)\u001b[0m\u001b[0;34m\u001b[0m\u001b[0;34m\u001b[0m\u001b[0m\n\u001b[0m\u001b[1;32m      6\u001b[0m \u001b[0;34m\u001b[0m\u001b[0m\n\u001b[1;32m      7\u001b[0m         \u001b[0mbooks\u001b[0m \u001b[0;34m=\u001b[0m \u001b[0mdriver\u001b[0m\u001b[0;34m.\u001b[0m\u001b[0mfind_elements_by_class_name\u001b[0m\u001b[0;34m(\u001b[0m\u001b[0;34m\"book\"\u001b[0m\u001b[0;34m)\u001b[0m\u001b[0;34m\u001b[0m\u001b[0;34m\u001b[0m\u001b[0m\n",
      "\u001b[0;32m~/Library/Python/3.8/lib/python/site-packages/selenium/webdriver/remote/webdriver.py\u001b[0m in \u001b[0;36mget\u001b[0;34m(self, url)\u001b[0m\n\u001b[1;32m    331\u001b[0m         \u001b[0mLoads\u001b[0m \u001b[0ma\u001b[0m \u001b[0mweb\u001b[0m \u001b[0mpage\u001b[0m \u001b[0;32min\u001b[0m \u001b[0mthe\u001b[0m \u001b[0mcurrent\u001b[0m \u001b[0mbrowser\u001b[0m \u001b[0msession\u001b[0m\u001b[0;34m.\u001b[0m\u001b[0;34m\u001b[0m\u001b[0;34m\u001b[0m\u001b[0m\n\u001b[1;32m    332\u001b[0m         \"\"\"\n\u001b[0;32m--> 333\u001b[0;31m         \u001b[0mself\u001b[0m\u001b[0;34m.\u001b[0m\u001b[0mexecute\u001b[0m\u001b[0;34m(\u001b[0m\u001b[0mCommand\u001b[0m\u001b[0;34m.\u001b[0m\u001b[0mGET\u001b[0m\u001b[0;34m,\u001b[0m \u001b[0;34m{\u001b[0m\u001b[0;34m'url'\u001b[0m\u001b[0;34m:\u001b[0m \u001b[0murl\u001b[0m\u001b[0;34m}\u001b[0m\u001b[0;34m)\u001b[0m\u001b[0;34m\u001b[0m\u001b[0;34m\u001b[0m\u001b[0m\n\u001b[0m\u001b[1;32m    334\u001b[0m \u001b[0;34m\u001b[0m\u001b[0m\n\u001b[1;32m    335\u001b[0m     \u001b[0;34m@\u001b[0m\u001b[0mproperty\u001b[0m\u001b[0;34m\u001b[0m\u001b[0;34m\u001b[0m\u001b[0m\n",
      "\u001b[0;32m~/Library/Python/3.8/lib/python/site-packages/selenium/webdriver/remote/webdriver.py\u001b[0m in \u001b[0;36mexecute\u001b[0;34m(self, driver_command, params)\u001b[0m\n\u001b[1;32m    317\u001b[0m \u001b[0;34m\u001b[0m\u001b[0m\n\u001b[1;32m    318\u001b[0m         \u001b[0mparams\u001b[0m \u001b[0;34m=\u001b[0m \u001b[0mself\u001b[0m\u001b[0;34m.\u001b[0m\u001b[0m_wrap_value\u001b[0m\u001b[0;34m(\u001b[0m\u001b[0mparams\u001b[0m\u001b[0;34m)\u001b[0m\u001b[0;34m\u001b[0m\u001b[0;34m\u001b[0m\u001b[0m\n\u001b[0;32m--> 319\u001b[0;31m         \u001b[0mresponse\u001b[0m \u001b[0;34m=\u001b[0m \u001b[0mself\u001b[0m\u001b[0;34m.\u001b[0m\u001b[0mcommand_executor\u001b[0m\u001b[0;34m.\u001b[0m\u001b[0mexecute\u001b[0m\u001b[0;34m(\u001b[0m\u001b[0mdriver_command\u001b[0m\u001b[0;34m,\u001b[0m \u001b[0mparams\u001b[0m\u001b[0;34m)\u001b[0m\u001b[0;34m\u001b[0m\u001b[0;34m\u001b[0m\u001b[0m\n\u001b[0m\u001b[1;32m    320\u001b[0m         \u001b[0;32mif\u001b[0m \u001b[0mresponse\u001b[0m\u001b[0;34m:\u001b[0m\u001b[0;34m\u001b[0m\u001b[0;34m\u001b[0m\u001b[0m\n\u001b[1;32m    321\u001b[0m             \u001b[0mself\u001b[0m\u001b[0;34m.\u001b[0m\u001b[0merror_handler\u001b[0m\u001b[0;34m.\u001b[0m\u001b[0mcheck_response\u001b[0m\u001b[0;34m(\u001b[0m\u001b[0mresponse\u001b[0m\u001b[0;34m)\u001b[0m\u001b[0;34m\u001b[0m\u001b[0;34m\u001b[0m\u001b[0m\n",
      "\u001b[0;32m~/Library/Python/3.8/lib/python/site-packages/selenium/webdriver/remote/remote_connection.py\u001b[0m in \u001b[0;36mexecute\u001b[0;34m(self, command, params)\u001b[0m\n\u001b[1;32m    372\u001b[0m         \u001b[0mdata\u001b[0m \u001b[0;34m=\u001b[0m \u001b[0mutils\u001b[0m\u001b[0;34m.\u001b[0m\u001b[0mdump_json\u001b[0m\u001b[0;34m(\u001b[0m\u001b[0mparams\u001b[0m\u001b[0;34m)\u001b[0m\u001b[0;34m\u001b[0m\u001b[0;34m\u001b[0m\u001b[0m\n\u001b[1;32m    373\u001b[0m         \u001b[0murl\u001b[0m \u001b[0;34m=\u001b[0m \u001b[0;34m'%s%s'\u001b[0m \u001b[0;34m%\u001b[0m \u001b[0;34m(\u001b[0m\u001b[0mself\u001b[0m\u001b[0;34m.\u001b[0m\u001b[0m_url\u001b[0m\u001b[0;34m,\u001b[0m \u001b[0mpath\u001b[0m\u001b[0;34m)\u001b[0m\u001b[0;34m\u001b[0m\u001b[0;34m\u001b[0m\u001b[0m\n\u001b[0;32m--> 374\u001b[0;31m         \u001b[0;32mreturn\u001b[0m \u001b[0mself\u001b[0m\u001b[0;34m.\u001b[0m\u001b[0m_request\u001b[0m\u001b[0;34m(\u001b[0m\u001b[0mcommand_info\u001b[0m\u001b[0;34m[\u001b[0m\u001b[0;36m0\u001b[0m\u001b[0;34m]\u001b[0m\u001b[0;34m,\u001b[0m \u001b[0murl\u001b[0m\u001b[0;34m,\u001b[0m \u001b[0mbody\u001b[0m\u001b[0;34m=\u001b[0m\u001b[0mdata\u001b[0m\u001b[0;34m)\u001b[0m\u001b[0;34m\u001b[0m\u001b[0;34m\u001b[0m\u001b[0m\n\u001b[0m\u001b[1;32m    375\u001b[0m \u001b[0;34m\u001b[0m\u001b[0m\n\u001b[1;32m    376\u001b[0m     \u001b[0;32mdef\u001b[0m \u001b[0m_request\u001b[0m\u001b[0;34m(\u001b[0m\u001b[0mself\u001b[0m\u001b[0;34m,\u001b[0m \u001b[0mmethod\u001b[0m\u001b[0;34m,\u001b[0m \u001b[0murl\u001b[0m\u001b[0;34m,\u001b[0m \u001b[0mbody\u001b[0m\u001b[0;34m=\u001b[0m\u001b[0;32mNone\u001b[0m\u001b[0;34m)\u001b[0m\u001b[0;34m:\u001b[0m\u001b[0;34m\u001b[0m\u001b[0;34m\u001b[0m\u001b[0m\n",
      "\u001b[0;32m~/Library/Python/3.8/lib/python/site-packages/selenium/webdriver/remote/remote_connection.py\u001b[0m in \u001b[0;36m_request\u001b[0;34m(self, method, url, body)\u001b[0m\n\u001b[1;32m    395\u001b[0m \u001b[0;34m\u001b[0m\u001b[0m\n\u001b[1;32m    396\u001b[0m         \u001b[0;32mif\u001b[0m \u001b[0mself\u001b[0m\u001b[0;34m.\u001b[0m\u001b[0mkeep_alive\u001b[0m\u001b[0;34m:\u001b[0m\u001b[0;34m\u001b[0m\u001b[0;34m\u001b[0m\u001b[0m\n\u001b[0;32m--> 397\u001b[0;31m             \u001b[0mresp\u001b[0m \u001b[0;34m=\u001b[0m \u001b[0mself\u001b[0m\u001b[0;34m.\u001b[0m\u001b[0m_conn\u001b[0m\u001b[0;34m.\u001b[0m\u001b[0mrequest\u001b[0m\u001b[0;34m(\u001b[0m\u001b[0mmethod\u001b[0m\u001b[0;34m,\u001b[0m \u001b[0murl\u001b[0m\u001b[0;34m,\u001b[0m \u001b[0mbody\u001b[0m\u001b[0;34m=\u001b[0m\u001b[0mbody\u001b[0m\u001b[0;34m,\u001b[0m \u001b[0mheaders\u001b[0m\u001b[0;34m=\u001b[0m\u001b[0mheaders\u001b[0m\u001b[0;34m)\u001b[0m\u001b[0;34m\u001b[0m\u001b[0;34m\u001b[0m\u001b[0m\n\u001b[0m\u001b[1;32m    398\u001b[0m \u001b[0;34m\u001b[0m\u001b[0m\n\u001b[1;32m    399\u001b[0m             \u001b[0mstatuscode\u001b[0m \u001b[0;34m=\u001b[0m \u001b[0mresp\u001b[0m\u001b[0;34m.\u001b[0m\u001b[0mstatus\u001b[0m\u001b[0;34m\u001b[0m\u001b[0;34m\u001b[0m\u001b[0m\n",
      "\u001b[0;32m~/Library/Python/3.8/lib/python/site-packages/urllib3/request.py\u001b[0m in \u001b[0;36mrequest\u001b[0;34m(self, method, url, fields, headers, **urlopen_kw)\u001b[0m\n\u001b[1;32m     77\u001b[0m             )\n\u001b[1;32m     78\u001b[0m         \u001b[0;32melse\u001b[0m\u001b[0;34m:\u001b[0m\u001b[0;34m\u001b[0m\u001b[0;34m\u001b[0m\u001b[0m\n\u001b[0;32m---> 79\u001b[0;31m             return self.request_encode_body(\n\u001b[0m\u001b[1;32m     80\u001b[0m                 \u001b[0mmethod\u001b[0m\u001b[0;34m,\u001b[0m \u001b[0murl\u001b[0m\u001b[0;34m,\u001b[0m \u001b[0mfields\u001b[0m\u001b[0;34m=\u001b[0m\u001b[0mfields\u001b[0m\u001b[0;34m,\u001b[0m \u001b[0mheaders\u001b[0m\u001b[0;34m=\u001b[0m\u001b[0mheaders\u001b[0m\u001b[0;34m,\u001b[0m \u001b[0;34m**\u001b[0m\u001b[0murlopen_kw\u001b[0m\u001b[0;34m\u001b[0m\u001b[0;34m\u001b[0m\u001b[0m\n\u001b[1;32m     81\u001b[0m             )\n",
      "\u001b[0;32m~/Library/Python/3.8/lib/python/site-packages/urllib3/request.py\u001b[0m in \u001b[0;36mrequest_encode_body\u001b[0;34m(self, method, url, fields, headers, encode_multipart, multipart_boundary, **urlopen_kw)\u001b[0m\n\u001b[1;32m    169\u001b[0m         \u001b[0mextra_kw\u001b[0m\u001b[0;34m.\u001b[0m\u001b[0mupdate\u001b[0m\u001b[0;34m(\u001b[0m\u001b[0murlopen_kw\u001b[0m\u001b[0;34m)\u001b[0m\u001b[0;34m\u001b[0m\u001b[0;34m\u001b[0m\u001b[0m\n\u001b[1;32m    170\u001b[0m \u001b[0;34m\u001b[0m\u001b[0m\n\u001b[0;32m--> 171\u001b[0;31m         \u001b[0;32mreturn\u001b[0m \u001b[0mself\u001b[0m\u001b[0;34m.\u001b[0m\u001b[0murlopen\u001b[0m\u001b[0;34m(\u001b[0m\u001b[0mmethod\u001b[0m\u001b[0;34m,\u001b[0m \u001b[0murl\u001b[0m\u001b[0;34m,\u001b[0m \u001b[0;34m**\u001b[0m\u001b[0mextra_kw\u001b[0m\u001b[0;34m)\u001b[0m\u001b[0;34m\u001b[0m\u001b[0;34m\u001b[0m\u001b[0m\n\u001b[0m",
      "\u001b[0;32m~/Library/Python/3.8/lib/python/site-packages/urllib3/poolmanager.py\u001b[0m in \u001b[0;36murlopen\u001b[0;34m(self, method, url, redirect, **kw)\u001b[0m\n\u001b[1;32m    334\u001b[0m             \u001b[0mresponse\u001b[0m \u001b[0;34m=\u001b[0m \u001b[0mconn\u001b[0m\u001b[0;34m.\u001b[0m\u001b[0murlopen\u001b[0m\u001b[0;34m(\u001b[0m\u001b[0mmethod\u001b[0m\u001b[0;34m,\u001b[0m \u001b[0murl\u001b[0m\u001b[0;34m,\u001b[0m \u001b[0;34m**\u001b[0m\u001b[0mkw\u001b[0m\u001b[0;34m)\u001b[0m\u001b[0;34m\u001b[0m\u001b[0;34m\u001b[0m\u001b[0m\n\u001b[1;32m    335\u001b[0m         \u001b[0;32melse\u001b[0m\u001b[0;34m:\u001b[0m\u001b[0;34m\u001b[0m\u001b[0;34m\u001b[0m\u001b[0m\n\u001b[0;32m--> 336\u001b[0;31m             \u001b[0mresponse\u001b[0m \u001b[0;34m=\u001b[0m \u001b[0mconn\u001b[0m\u001b[0;34m.\u001b[0m\u001b[0murlopen\u001b[0m\u001b[0;34m(\u001b[0m\u001b[0mmethod\u001b[0m\u001b[0;34m,\u001b[0m \u001b[0mu\u001b[0m\u001b[0;34m.\u001b[0m\u001b[0mrequest_uri\u001b[0m\u001b[0;34m,\u001b[0m \u001b[0;34m**\u001b[0m\u001b[0mkw\u001b[0m\u001b[0;34m)\u001b[0m\u001b[0;34m\u001b[0m\u001b[0;34m\u001b[0m\u001b[0m\n\u001b[0m\u001b[1;32m    337\u001b[0m \u001b[0;34m\u001b[0m\u001b[0m\n\u001b[1;32m    338\u001b[0m         \u001b[0mredirect_location\u001b[0m \u001b[0;34m=\u001b[0m \u001b[0mredirect\u001b[0m \u001b[0;32mand\u001b[0m \u001b[0mresponse\u001b[0m\u001b[0;34m.\u001b[0m\u001b[0mget_redirect_location\u001b[0m\u001b[0;34m(\u001b[0m\u001b[0;34m)\u001b[0m\u001b[0;34m\u001b[0m\u001b[0;34m\u001b[0m\u001b[0m\n",
      "\u001b[0;32m~/Library/Python/3.8/lib/python/site-packages/urllib3/connectionpool.py\u001b[0m in \u001b[0;36murlopen\u001b[0;34m(self, method, url, body, headers, retries, redirect, assert_same_host, timeout, pool_timeout, release_conn, chunked, body_pos, **response_kw)\u001b[0m\n\u001b[1;32m    668\u001b[0m \u001b[0;34m\u001b[0m\u001b[0m\n\u001b[1;32m    669\u001b[0m             \u001b[0;31m# Make the request on the httplib connection object.\u001b[0m\u001b[0;34m\u001b[0m\u001b[0;34m\u001b[0m\u001b[0;34m\u001b[0m\u001b[0m\n\u001b[0;32m--> 670\u001b[0;31m             httplib_response = self._make_request(\n\u001b[0m\u001b[1;32m    671\u001b[0m                 \u001b[0mconn\u001b[0m\u001b[0;34m,\u001b[0m\u001b[0;34m\u001b[0m\u001b[0;34m\u001b[0m\u001b[0m\n\u001b[1;32m    672\u001b[0m                 \u001b[0mmethod\u001b[0m\u001b[0;34m,\u001b[0m\u001b[0;34m\u001b[0m\u001b[0;34m\u001b[0m\u001b[0m\n",
      "\u001b[0;32m~/Library/Python/3.8/lib/python/site-packages/urllib3/connectionpool.py\u001b[0m in \u001b[0;36m_make_request\u001b[0;34m(self, conn, method, url, timeout, chunked, **httplib_request_kw)\u001b[0m\n\u001b[1;32m    424\u001b[0m                     \u001b[0;31m# Python 3 (including for exceptions like SystemExit).\u001b[0m\u001b[0;34m\u001b[0m\u001b[0;34m\u001b[0m\u001b[0;34m\u001b[0m\u001b[0m\n\u001b[1;32m    425\u001b[0m                     \u001b[0;31m# Otherwise it looks like a bug in the code.\u001b[0m\u001b[0;34m\u001b[0m\u001b[0;34m\u001b[0m\u001b[0;34m\u001b[0m\u001b[0m\n\u001b[0;32m--> 426\u001b[0;31m                     \u001b[0msix\u001b[0m\u001b[0;34m.\u001b[0m\u001b[0mraise_from\u001b[0m\u001b[0;34m(\u001b[0m\u001b[0me\u001b[0m\u001b[0;34m,\u001b[0m \u001b[0;32mNone\u001b[0m\u001b[0;34m)\u001b[0m\u001b[0;34m\u001b[0m\u001b[0;34m\u001b[0m\u001b[0m\n\u001b[0m\u001b[1;32m    427\u001b[0m         \u001b[0;32mexcept\u001b[0m \u001b[0;34m(\u001b[0m\u001b[0mSocketTimeout\u001b[0m\u001b[0;34m,\u001b[0m \u001b[0mBaseSSLError\u001b[0m\u001b[0;34m,\u001b[0m \u001b[0mSocketError\u001b[0m\u001b[0;34m)\u001b[0m \u001b[0;32mas\u001b[0m \u001b[0me\u001b[0m\u001b[0;34m:\u001b[0m\u001b[0;34m\u001b[0m\u001b[0;34m\u001b[0m\u001b[0m\n\u001b[1;32m    428\u001b[0m             \u001b[0mself\u001b[0m\u001b[0;34m.\u001b[0m\u001b[0m_raise_timeout\u001b[0m\u001b[0;34m(\u001b[0m\u001b[0merr\u001b[0m\u001b[0;34m=\u001b[0m\u001b[0me\u001b[0m\u001b[0;34m,\u001b[0m \u001b[0murl\u001b[0m\u001b[0;34m=\u001b[0m\u001b[0murl\u001b[0m\u001b[0;34m,\u001b[0m \u001b[0mtimeout_value\u001b[0m\u001b[0;34m=\u001b[0m\u001b[0mread_timeout\u001b[0m\u001b[0;34m)\u001b[0m\u001b[0;34m\u001b[0m\u001b[0;34m\u001b[0m\u001b[0m\n",
      "\u001b[0;32m~/Library/Python/3.8/lib/python/site-packages/urllib3/packages/six.py\u001b[0m in \u001b[0;36mraise_from\u001b[0;34m(value, from_value)\u001b[0m\n",
      "\u001b[0;32m~/Library/Python/3.8/lib/python/site-packages/urllib3/connectionpool.py\u001b[0m in \u001b[0;36m_make_request\u001b[0;34m(self, conn, method, url, timeout, chunked, **httplib_request_kw)\u001b[0m\n\u001b[1;32m    419\u001b[0m                 \u001b[0;31m# Python 3\u001b[0m\u001b[0;34m\u001b[0m\u001b[0;34m\u001b[0m\u001b[0;34m\u001b[0m\u001b[0m\n\u001b[1;32m    420\u001b[0m                 \u001b[0;32mtry\u001b[0m\u001b[0;34m:\u001b[0m\u001b[0;34m\u001b[0m\u001b[0;34m\u001b[0m\u001b[0m\n\u001b[0;32m--> 421\u001b[0;31m                     \u001b[0mhttplib_response\u001b[0m \u001b[0;34m=\u001b[0m \u001b[0mconn\u001b[0m\u001b[0;34m.\u001b[0m\u001b[0mgetresponse\u001b[0m\u001b[0;34m(\u001b[0m\u001b[0;34m)\u001b[0m\u001b[0;34m\u001b[0m\u001b[0;34m\u001b[0m\u001b[0m\n\u001b[0m\u001b[1;32m    422\u001b[0m                 \u001b[0;32mexcept\u001b[0m \u001b[0mBaseException\u001b[0m \u001b[0;32mas\u001b[0m \u001b[0me\u001b[0m\u001b[0;34m:\u001b[0m\u001b[0;34m\u001b[0m\u001b[0;34m\u001b[0m\u001b[0m\n\u001b[1;32m    423\u001b[0m                     \u001b[0;31m# Remove the TypeError from the exception chain in\u001b[0m\u001b[0;34m\u001b[0m\u001b[0;34m\u001b[0m\u001b[0;34m\u001b[0m\u001b[0m\n",
      "\u001b[0;32m/Applications/Xcode.app/Contents/Developer/Library/Frameworks/Python3.framework/Versions/3.8/lib/python3.8/http/client.py\u001b[0m in \u001b[0;36mgetresponse\u001b[0;34m(self)\u001b[0m\n\u001b[1;32m   1320\u001b[0m         \u001b[0;32mtry\u001b[0m\u001b[0;34m:\u001b[0m\u001b[0;34m\u001b[0m\u001b[0;34m\u001b[0m\u001b[0m\n\u001b[1;32m   1321\u001b[0m             \u001b[0;32mtry\u001b[0m\u001b[0;34m:\u001b[0m\u001b[0;34m\u001b[0m\u001b[0;34m\u001b[0m\u001b[0m\n\u001b[0;32m-> 1322\u001b[0;31m                 \u001b[0mresponse\u001b[0m\u001b[0;34m.\u001b[0m\u001b[0mbegin\u001b[0m\u001b[0;34m(\u001b[0m\u001b[0;34m)\u001b[0m\u001b[0;34m\u001b[0m\u001b[0;34m\u001b[0m\u001b[0m\n\u001b[0m\u001b[1;32m   1323\u001b[0m             \u001b[0;32mexcept\u001b[0m \u001b[0mConnectionError\u001b[0m\u001b[0;34m:\u001b[0m\u001b[0;34m\u001b[0m\u001b[0;34m\u001b[0m\u001b[0m\n\u001b[1;32m   1324\u001b[0m                 \u001b[0mself\u001b[0m\u001b[0;34m.\u001b[0m\u001b[0mclose\u001b[0m\u001b[0;34m(\u001b[0m\u001b[0;34m)\u001b[0m\u001b[0;34m\u001b[0m\u001b[0;34m\u001b[0m\u001b[0m\n",
      "\u001b[0;32m/Applications/Xcode.app/Contents/Developer/Library/Frameworks/Python3.framework/Versions/3.8/lib/python3.8/http/client.py\u001b[0m in \u001b[0;36mbegin\u001b[0;34m(self)\u001b[0m\n\u001b[1;32m    301\u001b[0m         \u001b[0;31m# read until we get a non-100 response\u001b[0m\u001b[0;34m\u001b[0m\u001b[0;34m\u001b[0m\u001b[0;34m\u001b[0m\u001b[0m\n\u001b[1;32m    302\u001b[0m         \u001b[0;32mwhile\u001b[0m \u001b[0;32mTrue\u001b[0m\u001b[0;34m:\u001b[0m\u001b[0;34m\u001b[0m\u001b[0;34m\u001b[0m\u001b[0m\n\u001b[0;32m--> 303\u001b[0;31m             \u001b[0mversion\u001b[0m\u001b[0;34m,\u001b[0m \u001b[0mstatus\u001b[0m\u001b[0;34m,\u001b[0m \u001b[0mreason\u001b[0m \u001b[0;34m=\u001b[0m \u001b[0mself\u001b[0m\u001b[0;34m.\u001b[0m\u001b[0m_read_status\u001b[0m\u001b[0;34m(\u001b[0m\u001b[0;34m)\u001b[0m\u001b[0;34m\u001b[0m\u001b[0;34m\u001b[0m\u001b[0m\n\u001b[0m\u001b[1;32m    304\u001b[0m             \u001b[0;32mif\u001b[0m \u001b[0mstatus\u001b[0m \u001b[0;34m!=\u001b[0m \u001b[0mCONTINUE\u001b[0m\u001b[0;34m:\u001b[0m\u001b[0;34m\u001b[0m\u001b[0;34m\u001b[0m\u001b[0m\n\u001b[1;32m    305\u001b[0m                 \u001b[0;32mbreak\u001b[0m\u001b[0;34m\u001b[0m\u001b[0;34m\u001b[0m\u001b[0m\n",
      "\u001b[0;32m/Applications/Xcode.app/Contents/Developer/Library/Frameworks/Python3.framework/Versions/3.8/lib/python3.8/http/client.py\u001b[0m in \u001b[0;36m_read_status\u001b[0;34m(self)\u001b[0m\n\u001b[1;32m    262\u001b[0m \u001b[0;34m\u001b[0m\u001b[0m\n\u001b[1;32m    263\u001b[0m     \u001b[0;32mdef\u001b[0m \u001b[0m_read_status\u001b[0m\u001b[0;34m(\u001b[0m\u001b[0mself\u001b[0m\u001b[0;34m)\u001b[0m\u001b[0;34m:\u001b[0m\u001b[0;34m\u001b[0m\u001b[0;34m\u001b[0m\u001b[0m\n\u001b[0;32m--> 264\u001b[0;31m         \u001b[0mline\u001b[0m \u001b[0;34m=\u001b[0m \u001b[0mstr\u001b[0m\u001b[0;34m(\u001b[0m\u001b[0mself\u001b[0m\u001b[0;34m.\u001b[0m\u001b[0mfp\u001b[0m\u001b[0;34m.\u001b[0m\u001b[0mreadline\u001b[0m\u001b[0;34m(\u001b[0m\u001b[0m_MAXLINE\u001b[0m \u001b[0;34m+\u001b[0m \u001b[0;36m1\u001b[0m\u001b[0;34m)\u001b[0m\u001b[0;34m,\u001b[0m \u001b[0;34m\"iso-8859-1\"\u001b[0m\u001b[0;34m)\u001b[0m\u001b[0;34m\u001b[0m\u001b[0;34m\u001b[0m\u001b[0m\n\u001b[0m\u001b[1;32m    265\u001b[0m         \u001b[0;32mif\u001b[0m \u001b[0mlen\u001b[0m\u001b[0;34m(\u001b[0m\u001b[0mline\u001b[0m\u001b[0;34m)\u001b[0m \u001b[0;34m>\u001b[0m \u001b[0m_MAXLINE\u001b[0m\u001b[0;34m:\u001b[0m\u001b[0;34m\u001b[0m\u001b[0;34m\u001b[0m\u001b[0m\n\u001b[1;32m    266\u001b[0m             \u001b[0;32mraise\u001b[0m \u001b[0mLineTooLong\u001b[0m\u001b[0;34m(\u001b[0m\u001b[0;34m\"status line\"\u001b[0m\u001b[0;34m)\u001b[0m\u001b[0;34m\u001b[0m\u001b[0;34m\u001b[0m\u001b[0m\n",
      "\u001b[0;32m/Applications/Xcode.app/Contents/Developer/Library/Frameworks/Python3.framework/Versions/3.8/lib/python3.8/socket.py\u001b[0m in \u001b[0;36mreadinto\u001b[0;34m(self, b)\u001b[0m\n\u001b[1;32m    667\u001b[0m         \u001b[0;32mwhile\u001b[0m \u001b[0;32mTrue\u001b[0m\u001b[0;34m:\u001b[0m\u001b[0;34m\u001b[0m\u001b[0;34m\u001b[0m\u001b[0m\n\u001b[1;32m    668\u001b[0m             \u001b[0;32mtry\u001b[0m\u001b[0;34m:\u001b[0m\u001b[0;34m\u001b[0m\u001b[0;34m\u001b[0m\u001b[0m\n\u001b[0;32m--> 669\u001b[0;31m                 \u001b[0;32mreturn\u001b[0m \u001b[0mself\u001b[0m\u001b[0;34m.\u001b[0m\u001b[0m_sock\u001b[0m\u001b[0;34m.\u001b[0m\u001b[0mrecv_into\u001b[0m\u001b[0;34m(\u001b[0m\u001b[0mb\u001b[0m\u001b[0;34m)\u001b[0m\u001b[0;34m\u001b[0m\u001b[0;34m\u001b[0m\u001b[0m\n\u001b[0m\u001b[1;32m    670\u001b[0m             \u001b[0;32mexcept\u001b[0m \u001b[0mtimeout\u001b[0m\u001b[0;34m:\u001b[0m\u001b[0;34m\u001b[0m\u001b[0;34m\u001b[0m\u001b[0m\n\u001b[1;32m    671\u001b[0m                 \u001b[0mself\u001b[0m\u001b[0;34m.\u001b[0m\u001b[0m_timeout_occurred\u001b[0m \u001b[0;34m=\u001b[0m \u001b[0;32mTrue\u001b[0m\u001b[0;34m\u001b[0m\u001b[0;34m\u001b[0m\u001b[0m\n",
      "\u001b[0;31mKeyboardInterrupt\u001b[0m: "
     ]
    }
   ],
   "source": [
    "urls = get_urls(driver)\n",
    "urls = list(map(lambda x: x.replace('/ar/', '/en/'), urls))"
   ]
  },
  {
   "cell_type": "code",
   "execution_count": null,
   "metadata": {},
   "outputs": [],
   "source": []
  },
  {
   "cell_type": "markdown",
   "metadata": {},
   "source": [
    "### Crawl using requests"
   ]
  },
  {
   "cell_type": "code",
   "execution_count": 424,
   "metadata": {},
   "outputs": [],
   "source": [
    "def get_top_books():\n",
    "    num_pages = 5\n",
    "    base_url = \"https://jamalon.com/en/best-seller-books-2019/?p={}\"\n",
    "    \n",
    "    books_info = {}\n",
    "    \n",
    "    for i in range(1, num_pages+1):\n",
    "        response = requests.get(base_url.format(i), cookies={\n",
    "            \"currency\": \"USD\",\n",
    "            \"currency_code\": \"VVNE\"\n",
    "        })\n",
    "        \n",
    "        html = BeautifulSoup(response.content)\n",
    "        books = html.find_all('a', attrs={'class': 'product-image'})\n",
    "        for book in books:\n",
    "            title = book['title']\n",
    "            url = book['href']\n",
    "            price = book.find('div', attrs={'class', 'new-price'}).text.strip()\n",
    "\n",
    "            books_info[title] = {}\n",
    "            books_info[title]['url'] = url\n",
    "            books_info['price'] = price\n",
    "    \n",
    "    return books_info"
   ]
  },
  {
   "cell_type": "code",
   "execution_count": 425,
   "metadata": {},
   "outputs": [],
   "source": [
    "books_info = get_top_books()"
   ]
  },
  {
   "cell_type": "code",
   "execution_count": null,
   "metadata": {},
   "outputs": [],
   "source": []
  },
  {
   "cell_type": "code",
   "execution_count": 426,
   "metadata": {},
   "outputs": [
    {
     "data": {
      "text/plain": [
       "{'القوقعة : يوميات متلصص': {'url': 'https://jamalon.com/ar/1004376.html'},\n",
       " 'price': '$22.26',\n",
       " 'أولاد حارتنا': {'url': 'https://jamalon.com/ar/1006424.html'},\n",
       " 'الرجال من المريخ النساء من الزهرة': {'url': 'https://jamalon.com/ar/1006434.html'},\n",
       " 'الجريمة والعقاب 1/2 : ترجمة زينب المزديوي': {'url': 'https://jamalon.com/ar/1007803.html'},\n",
       " 'الأب الغني الأب الفقير': {'url': 'https://jamalon.com/ar/1014741.html'},\n",
       " 'رواية 1984': {'url': 'https://jamalon.com/ar/3059915.html'},\n",
       " 'التخلف الاجتماعي : مدخل إلى سيكولوجية الإنسان المقهور': {'url': 'https://jamalon.com/ar/3059871.html'},\n",
       " 'الخيميائي': {'url': 'https://jamalon.com/ar/3033435.html'},\n",
       " 'السياسة والحيلة عند العرب : رقائق الحلل في دقائق الحيل': {'url': 'https://jamalon.com/ar/3001866.html'},\n",
       " 'العصفورية': {'url': 'https://jamalon.com/ar/3026103.html'},\n",
       " 'حياة في الإدارة': {'url': 'https://jamalon.com/ar/3019715.html'},\n",
       " 'خوارق اللاشعور : أو أسرار الشخصية الناجحة': {'url': 'https://jamalon.com/ar/3016259.html'},\n",
       " 'رسائل غسان كنفاني إلى غادة السمان': {'url': 'https://jamalon.com/ar/3018400.html'},\n",
       " 'سيكولوجية الجماهير': {'url': 'https://jamalon.com/ar/3001901.html'},\n",
       " 'سيدات القمر': {'url': 'https://jamalon.com/ar/3075604.html'},\n",
       " 'شقة الحرية': {'url': 'https://jamalon.com/ar/3004707.html'},\n",
       " 'عالم صوفي : رواية حول تاريخ الفلسفة': {'url': 'https://jamalon.com/ar/3016379.html'},\n",
       " 'كافكا على الشاطئ': {'url': 'https://jamalon.com/ar/3070376.html'},\n",
       " 'خماسية مدن الملح': {'url': 'https://jamalon.com/ar/3018131.html'},\n",
       " 'مهزلة العقل البشري': {'url': 'https://jamalon.com/ar/3016261.html'},\n",
       " 'وعاظ السلاطين': {'url': 'https://jamalon.com/ar/3073341.html'},\n",
       " 'العادات السبع للناس الأكثر فعالية': {'url': 'https://jamalon.com/ar/1014834.html'},\n",
       " 'عداء الطائرة الورقية': {'url': 'https://jamalon.com/ar/4000003.html'},\n",
       " 'ألف شمس ساطعة': {'url': 'https://jamalon.com/ar/4000004.html'},\n",
       " 'قواعد العشق الأربعون': {'url': 'https://jamalon.com/ar/3087504.html'},\n",
       " 'فى قلبى أنثى عبرية': {'url': 'https://jamalon.com/ar/1017636.html'},\n",
       " 'الرقص مع الحياة': {'url': 'https://jamalon.com/ar/3088998.html'},\n",
       " 'ثلاثية غرناطة': {'url': 'https://jamalon.com/ar/1020568.html'},\n",
       " 'مميز بالأصفر : مقرر مختصر في العيش بحكمة والاختيار بذكاء': {'url': 'https://jamalon.com/ar/5000399.html'},\n",
       " 'أقوم قيلا': {'url': 'https://jamalon.com/ar/3090408.html'},\n",
       " 'لعبة العروش : الكتاب الأول من أغنية الجليد والنار': {'url': 'https://jamalon.com/ar/3092746.html'},\n",
       " 'قوة عقلك الباطن': {'url': 'https://jamalon.com/ar/5000449.html'},\n",
       " 'أغنى رجل في بابل': {'url': 'https://jamalon.com/ar/5000462.html'},\n",
       " 'حديث الصباح': {'url': 'https://jamalon.com/ar/4100319.html'},\n",
       " 'البؤساء': {'url': 'https://jamalon.com/ar/1023717.html'},\n",
       " 'عزاءات الفلسفة : كيف تساعدنا الفلسفة في الحياة': {'url': 'https://jamalon.com/ar/3093354.html'},\n",
       " 'السماح بالرحيل : الطريق نحو التسليم': {'url': 'https://jamalon.com/ar/3094005.html'},\n",
       " 'موت صغير': {'url': 'https://jamalon.com/ar/3094522.html'},\n",
       " 'سحر الترتيب : الفن الياباني في التنظيم وإزالة الفوضى': {'url': 'https://jamalon.com/ar/3094958.html'},\n",
       " 'جورج أورويل : 1984': {'url': 'https://jamalon.com/ar/1024519.html'},\n",
       " 'لا تقولي إنك خائفة': {'url': 'https://jamalon.com/ar/3095205.html'},\n",
       " 'فن أن تكون دائماً على صواب': {'url': 'https://jamalon.com/ar/3095373.html'},\n",
       " 'ظل الريح': {'url': 'https://jamalon.com/ar/3095377.html'},\n",
       " 'الليالي البيضاء': {'url': 'https://jamalon.com/ar/3096522.html'},\n",
       " 'حديث المساء': {'url': 'https://jamalon.com/ar/4100872.html'},\n",
       " 'الحارس في حقل الشوفان': {'url': 'https://jamalon.com/ar/8000592.html'},\n",
       " 'إسأل تعط : تعلم أن تظهر رغباتك': {'url': 'https://jamalon.com/ar/3097227.html'},\n",
       " 'نظرية الفستق : كتاب سيغير طريقة تفكيرك وحكمك على الأشياء': {'url': 'https://jamalon.com/ar/5000798.html'},\n",
       " 'ابق قوياً 365 يوماً في السنة': {'url': 'https://jamalon.com/ar/5000799.html'},\n",
       " 'شيفرة بلال': {'url': 'https://jamalon.com/ar/9005111.html'},\n",
       " 'أرض السافلين': {'url': 'https://jamalon.com/ar/5000953.html'},\n",
       " 'أنتيخريستوس': {'url': 'https://jamalon.com/ar/5000954.html'},\n",
       " 'غداً أجمل': {'url': 'https://jamalon.com/ar/5000960.html'},\n",
       " 'لأنك الله : رحلة إلى السماء السابعة': {'url': 'https://jamalon.com/ar/5000966.html'},\n",
       " 'مئة عامٍ من العزلة': {'url': 'https://jamalon.com/ar/3101432.html'},\n",
       " 'Milk and Honey': {'url': 'https://jamalon.com/ar/9781449474256.html'},\n",
       " 'محمد عبده': {'url': 'https://jamalon.com/ar/3102192.html'},\n",
       " 'أنوثة طاغية': {'url': 'https://jamalon.com/ar/5001326.html'},\n",
       " 'مع النبي صلى الله عليه وسلم': {'url': 'https://jamalon.com/ar/4101324.html'},\n",
       " 'كيف تنجح قبل أن تبدأ': {'url': 'https://jamalon.com/ar/1029818.html'},\n",
       " 'مجموعة علي الوردي : مهزلة العقل البشري ، وعاظ السلاطين': {'url': 'https://jamalon.com/ar/7000028.html'},\n",
       " 'سلامٌ على إبراهيم': {'url': 'https://jamalon.com/ar/3103818.html'},\n",
       " 'عاصفة السيوف : الكتاب الثالث من أغنية الجليد والنار 1-2': {'url': 'https://jamalon.com/ar/3103865.html'},\n",
       " 'سلسلة أغنية الجليد والنار : لعبة العروش, صدام الملوك, عاصفة السيوف': {'url': 'https://jamalon.com/ar/7000043.html'},\n",
       " 'شجرتي شجرة البرتقال الرائعة': {'url': 'https://jamalon.com/ar/1030292.html'},\n",
       " 'المزدَوَج': {'url': 'https://jamalon.com/ar/3105342.html'},\n",
       " 'قلق السعي إلى المكانة': {'url': 'https://jamalon.com/ar/3105405.html'},\n",
       " 'ملذّات طوكيو': {'url': 'https://jamalon.com/ar/3105634.html'},\n",
       " 'فن اللامبالاة : لعيش حياة تخالف المألوف': {'url': 'https://jamalon.com/ar/3106057.html'},\n",
       " 'اكستاسي 65 يوم': {'url': 'https://jamalon.com/ar/5003407.html'},\n",
       " 'كيف تتقن لعبة الحياة : حلول ل 369 مشكلة': {'url': 'https://jamalon.com/ar/4202453.html'},\n",
       " 'شهياً كفراق': {'url': 'https://jamalon.com/ar/3107338.html'},\n",
       " 'عدوي اللدود': {'url': 'https://jamalon.com/ar/3107485.html'},\n",
       " 'صاحب الظل الطويل': {'url': 'https://jamalon.com/ar/3107490.html'},\n",
       " 'سجين السماء': {'url': 'https://jamalon.com/ar/3107609.html'},\n",
       " 'وليمة للغربان : 1 – 2': {'url': 'https://jamalon.com/ar/3107807.html'},\n",
       " '40 أربعون': {'url': 'https://jamalon.com/ar/3107990.html'},\n",
       " 'مجموعة أغنية الجليد والنار : لعبة العروش ، صدام الملوك ، عاصفة السيوف ، وليمة للغربان ، رقصة مع التنانين': {'url': 'https://jamalon.com/ar/7000055.html'},\n",
       " 'قصتي : خمسين قصة في خمسين عاماً': {'url': 'https://jamalon.com/ar/4203056.html'},\n",
       " 'أنا يوسف': {'url': 'https://jamalon.com/ar/9008662.html'},\n",
       " 'ليطمئن عقلي': {'url': 'https://jamalon.com/ar/9008703.html'},\n",
       " 'لن يموت': {'url': 'https://jamalon.com/ar/9009056.html'},\n",
       " 'إن مع الصبر نصرآ': {'url': 'https://jamalon.com/ar/3108791.html'},\n",
       " 'Pharma Guide Pre-Work : Pharmacy Practice for Postgraduate_ Third Edition': {'url': 'https://jamalon.com/ar/9789779056098.html'},\n",
       " 'رَواءُ مَكَّة': {'url': 'https://jamalon.com/ar/3109386.html'},\n",
       " 'البنت التي لا تحب اسمها': {'url': 'https://jamalon.com/ar/3109504.html'},\n",
       " 'المرحلة الملكية': {'url': 'https://jamalon.com/ar/5005580.html'},\n",
       " 'فاتتني صلاة !!': {'url': 'https://jamalon.com/ar/9011600.html'},\n",
       " 'خراب : كتاب عن الأمل': {'url': 'https://jamalon.com/ar/3119444.html'},\n",
       " 'ناقة صالحة': {'url': 'https://jamalon.com/ar/3119933.html'},\n",
       " 'Shusmo شسمو': {'url': 'https://jamalon.com/ar/1035442.html'},\n",
       " 'الذكاء العيش في الوقت الحاضر': {'url': 'https://jamalon.com/ar/3120483.html'},\n",
       " 'يوم المغفرة': {'url': 'https://jamalon.com/ar/5006802.html'},\n",
       " 'متاهة الأرواح': {'url': 'https://jamalon.com/ar/3121394.html'},\n",
       " 'حيونة الإنسان': {'url': 'https://jamalon.com/ar/1007788.html'},\n",
       " 'ملهمون': {'url': 'https://jamalon.com/ar/4100558.html'},\n",
       " 'واختفى كل شىء': {'url': 'https://jamalon.com/ar/5000742.html'},\n",
       " 'جو : عذابات 10 مارس في سجن جو': {'url': 'https://jamalon.com/ar/3097546.html'},\n",
       " 'مادونا صاحبة معطف الفرو': {'url': 'https://jamalon.com/ar/3098276.html'},\n",
       " 'خاتم بصبعي': {'url': 'https://jamalon.com/ar/4400013.html'}}"
      ]
     },
     "execution_count": 426,
     "metadata": {},
     "output_type": "execute_result"
    }
   ],
   "source": [
    "books_info"
   ]
  },
  {
   "cell_type": "code",
   "execution_count": 326,
   "metadata": {},
   "outputs": [],
   "source": [
    "a = get_cookie(driver, urls[0])"
   ]
  },
  {
   "cell_type": "code",
   "execution_count": 408,
   "metadata": {},
   "outputs": [
    {
     "data": {
      "text/plain": [
       "{'القوقعة : يوميات متلصص': {'url': 'https://jamalon.com/ar/1004376.html'},\n",
       " 'price': '$12.65'}"
      ]
     },
     "execution_count": 408,
     "metadata": {},
     "output_type": "execute_result"
    }
   ],
   "source": [
    "books"
   ]
  },
  {
   "cell_type": "code",
   "execution_count": 327,
   "metadata": {},
   "outputs": [
    {
     "data": {
      "text/plain": [
       "{'currency': 'USD',\n",
       " 'currency_code': 'VVNE',\n",
       " 'frontend': 'h4vehamjer17e205ultu932d67',\n",
       " '__utmt': '1',\n",
       " 'store': 'en'}"
      ]
     },
     "execution_count": 327,
     "metadata": {},
     "output_type": "execute_result"
    }
   ],
   "source": [
    "a"
   ]
  },
  {
   "cell_type": "code",
   "execution_count": null,
   "metadata": {
    "scrolled": true
   },
   "outputs": [],
   "source": [
    "response = requests.post(request_url, cookies=a)\n",
    "content = response.json()\n",
    "parsed_html = BeautifulSoup(content['summary'])\n",
    "title = parsed_html.body.find('td', attrs={'class': 'name'}).text.strip()\n",
    "prices = list(map(lambda x: x.text.strip(), parsed_html.body.find_all('span', attrs={'class': 'price'})))\n",
    "\n",
    "print(title)\n",
    "print(prices)"
   ]
  },
  {
   "cell_type": "code",
   "execution_count": 316,
   "metadata": {},
   "outputs": [
    {
     "data": {
      "text/plain": [
       "<RequestsCookieJar[Cookie(version=0, name='frontend', value='tvfcio9iv3pfvh50k3jv1p9mc2', port=None, port_specified=False, domain='.jamalon.com', domain_specified=True, domain_initial_dot=False, path='/', path_specified=True, secure=False, expires=1607700609, discard=False, comment=None, comment_url=None, rest={}, rfc2109=False)]>"
      ]
     },
     "execution_count": 316,
     "metadata": {},
     "output_type": "execute_result"
    }
   ],
   "source": [
    "response.cookies"
   ]
  },
  {
   "cell_type": "code",
   "execution_count": 313,
   "metadata": {
    "scrolled": true
   },
   "outputs": [
    {
     "data": {
      "text/plain": [
       "<body><table class=\"onestepcheckout-summary\">\n",
       "<thead>\n",
       "<tr>\n",
       "<th class=\"name\">الكتاب</th>\n",
       "<th class=\"qty\">الكمية</th>\n",
       "<th class=\"total\">المجموع الفرعي</th>\n",
       "</tr>\n",
       "</thead>\n",
       "<tr>\n",
       "<td class=\"name\">\n",
       "                الأب الغني الأب الفقير                            </td>\n",
       "<td class=\"qty\">3</td>\n",
       "<td class=\"total\">\n",
       "<span class=\"price\">OMR17.31</span> </td>\n",
       "</tr>\n",
       "<tr>\n",
       "<td class=\"name\">\n",
       "                القوقعة : يوميات متلصص                            </td>\n",
       "<td class=\"qty\">4</td>\n",
       "<td class=\"total\">\n",
       "<span class=\"price\">OMR19.48</span> </td>\n",
       "</tr>\n",
       "</table>\n",
       "<table class=\"onestepcheckout-totals\">\n",
       "<tr>\n",
       "<td class=\"a-right cart-points-total_spent\" colspan=\"1\">\n",
       "<div class=\"\">النقاط المستهلكة :</div>\n",
       "</td>\n",
       "<td class=\"a-right cart-points-total_spent\">\n",
       "<div class=\"points-amount\">\n",
       "                0 نقاط            </div>\n",
       "</td>\n",
       "</tr>\n",
       "<tr>\n",
       "<td class=\"a-right cart-points-total_spent cart-points-spending_warnings\" colspan=\"2\">\n",
       "</td>\n",
       "</tr>\n",
       "<tr>\n",
       "<td class=\"a-right cart-points-total_earned\" colspan=\"1\">\n",
       "<div class=\"\">النقاط المكتسبة :</div>\n",
       "</td>\n",
       "<td class=\"a-right cart-points-total_earned\" style=\"\">\n",
       "<span class=\"price\">\n",
       "                0 نقاط            </span>\n",
       "</td>\n",
       "</tr>\n",
       "<tr>\n",
       "<td class=\"a-right\" colspan=\"1\" style=\"\">\n",
       "        المجموع الفرعي    </td>\n",
       "<td class=\"a-right\" style=\"\">\n",
       "<span class=\"price\">OMR36.79</span> </td>\n",
       "</tr>\n",
       "<tr>\n",
       "<td class=\"a-right\" colspan=\"1\" style=\"\">\n",
       "        الشحن (Express Shipping - (7-14 days))    </td>\n",
       "<td class=\"a-right\" style=\"\">\n",
       "<span class=\"price\">OMR0.00</span> </td>\n",
       "</tr>\n",
       "<tr>\n",
       "<td class=\"a-right\" colspan=\"1\" style=\"\">\n",
       "<strong>المجموع الكلّي</strong>\n",
       "</td>\n",
       "<td class=\"a-right\" style=\"\">\n",
       "<strong><span class=\"price\">OMR36.79</span></strong>\n",
       "</td>\n",
       "</tr>\n",
       "</table>\n",
       "<script type=\"text/javascript\">\n",
       "//<![CDATA[\n",
       "    var total = 36.79;\n",
       "    if (payment.reloadcallback) {\n",
       "        var url = 'https://jamalon.com/ar/onestepcheckout/ajax/paymentrefresh/';\n",
       "        paymentrefresh(url);\n",
       "        payment.countreload = 0;\n",
       "        payment.reloadcallback = false;\n",
       "    }\n",
       "//]]>\n",
       "</script>\n",
       "</body>"
      ]
     },
     "execution_count": 313,
     "metadata": {},
     "output_type": "execute_result"
    }
   ],
   "source": [
    "parsed_html.body"
   ]
  },
  {
   "cell_type": "code",
   "execution_count": 312,
   "metadata": {},
   "outputs": [
    {
     "data": {
      "text/plain": [
       "[]"
      ]
     },
     "execution_count": 312,
     "metadata": {},
     "output_type": "execute_result"
    }
   ],
   "source": [
    "def number_span(tag):\n",
    "    return tag.name=='span' and 'Shipping' in tag.parent.contents[0]\n",
    "\n",
    "parsed_html.body.find_all(number_span)"
   ]
  },
  {
   "cell_type": "code",
   "execution_count": 96,
   "metadata": {},
   "outputs": [],
   "source": [
    "request_url = \"https://jamalon.com/en/onestepcheckout/ajax/save_billing\""
   ]
  },
  {
   "cell_type": "code",
   "execution_count": 82,
   "metadata": {},
   "outputs": [],
   "source": [
    "data = {\n",
    "    \"url\": \"https://jamalon.com/en/1004376.html\",\n",
    "    \"user_id\": \"ed7b1018-1bf1-5282-a9b7-5e457b5ca52d\",\n",
    "    \"window_height\": 731,\n",
    "    \"window_width\": 1920\n",
    "}\n"
   ]
  },
  {
   "cell_type": "code",
   "execution_count": 113,
   "metadata": {},
   "outputs": [],
   "source": [
    "all_cookies = driver.get_cookies()\n",
    "cookies_to_send = {}\n",
    "for c in all_cookies:\n",
    "    cookies_to_send[c['name']] = c['value']"
   ]
  },
  {
   "cell_type": "code",
   "execution_count": 142,
   "metadata": {
    "scrolled": true
   },
   "outputs": [],
   "source": [
    "temp = cookies_to_send.copy()"
   ]
  },
  {
   "cell_type": "code",
   "execution_count": 253,
   "metadata": {
    "scrolled": true
   },
   "outputs": [
    {
     "data": {
      "text/plain": [
       "'tvfcio9iv3pfvh50k3jv1p9mc2'"
      ]
     },
     "execution_count": 253,
     "metadata": {},
     "output_type": "execute_result"
    }
   ],
   "source": [
    "temp.pop('frontend')"
   ]
  },
  {
   "cell_type": "code",
   "execution_count": 254,
   "metadata": {
    "scrolled": true
   },
   "outputs": [
    {
     "data": {
      "text/plain": [
       "{'_hjAbsoluteSessionInProgress': '0',\n",
       " '_hjFirstSeen': '1',\n",
       " '_hjIncludedInPageviewSample': '1',\n",
       " '_hjIncludedInSessionSample': '1'}"
      ]
     },
     "execution_count": 254,
     "metadata": {},
     "output_type": "execute_result"
    }
   ],
   "source": [
    "temp"
   ]
  },
  {
   "cell_type": "code",
   "execution_count": 290,
   "metadata": {},
   "outputs": [],
   "source": [
    "temp['frontend'] = 'tvfcio9iv3pfvh50k3jv1p9mc2'"
   ]
  },
  {
   "cell_type": "code",
   "execution_count": 291,
   "metadata": {},
   "outputs": [
    {
     "data": {
      "text/plain": [
       "{'_hjAbsoluteSessionInProgress': '0',\n",
       " '_hjFirstSeen': '1',\n",
       " '_hjIncludedInPageviewSample': '1',\n",
       " '_hjIncludedInSessionSample': '1',\n",
       " 'frontend': 'tvfcio9iv3pfvh50k3jv1p9mc2'}"
      ]
     },
     "execution_count": 291,
     "metadata": {},
     "output_type": "execute_result"
    }
   ],
   "source": [
    "temp"
   ]
  },
  {
   "cell_type": "code",
   "execution_count": 292,
   "metadata": {
    "scrolled": true
   },
   "outputs": [
    {
     "name": "stdout",
     "output_type": "stream",
     "text": [
      "{'shipping_method': '\\n            <dl class=\"shipment-methods\">\\n                                    <!--<dd></dd>-->\\n                                            <dt style=\"margin-bottom: 5px;\">\\n\\n                                                           <input name=\"shipping_method\" type=\"radio\" class=\"validate-one-required-by-name\" value=\"shipmanager_shipmanager_7\" id=\"s_method_shipmanager_shipmanager_7\" checked=\"checked\" />\\n                                <label for=\"s_method_shipmanager_shipmanager_7\"><!--<b>Available Shipping Methods:</b>--> Express Shipping - (7-14 days)                                <strong>\\n                                                                \\n                                <span class=\"price\">OMR0.00</span>                                                                </strong>\\n                                </label>\\n                                                   </dt>\\n                                        </dl>\\n    ', 'payment_method': '\\n\\n\\n<div class=\"payment-methods\">\\n<script type=\"text/javascript\">\\n//<![CDATA[\\n      var payment = new Payment(\\'checkout-payment-method-load\\', \\'https://jamalon.com/ar/checkout/onepage/savePayment/\\');\\n  payment.currentMethod = \"paypal_express\";\\n//]]>\\n</script>\\n    \\n    \\n        <dl id=\"checkout-payment-method-load\">\\n                            <dt style=\"padding: 10px;\">\\n                            <input id=\"p_method_payfortcc\" value=\"payfortcc\" type=\"radio\" name=\"payment[method]\" title=\"Payfort, Visa &amp; MasterCard\" class=\"radio validate-one-required-by-name\"  />\\n                            <label for=\"p_method_payfortcc\"> <img width=\"50\" title=\"Payfort, Visa & MasterCard\" src=\\'https://cdn.jamalon.com/skin/frontend/base/default/images/payfortcc.png\\' >&nbsp;&nbsp;Payfort, Visa & MasterCard</a></label>\\n            </dt>\\n                                        <dt style=\"padding: 10px;\">\\n                            <input id=\"p_method_paypal_express\" value=\"paypal_express\" type=\"radio\" name=\"payment[method]\" title=\"الدفع عن طريق البطاقات الائتمانية\" class=\"radio validate-one-required-by-name\"  checked=\"checked\" />\\n                            <label for=\"p_method_paypal_express\"> <img width=\"50\" title=\"الدفع عن طريق البطاقات الائتمانية\" src=\\'https://cdn.jamalon.com/skin/frontend/base/default/images/paypal_express.png\\' >&nbsp;&nbsp;الدفع عن طريق البطاقات الائتمانية</a></label>\\n            </dt>\\n                        <dd id=\"container_payment_method_paypal_express\" class=\"payment-method\">\\n                <ul class=\"form-list\" id=\"payment_form_paypal_express\" style=\"display:none;\">\\n    <li class=\"form-alt\">سوف يتم تحويلك الى موقع PayPal</li>\\n    </ul>\\n            </dd>\\n                                        <dt style=\"padding: 10px;\">\\n                            <input id=\"p_method_cashondelivery\" value=\"cashondelivery\" type=\"radio\" name=\"payment[method]\" title=\"الدفع عند التوصيل\" class=\"radio validate-one-required-by-name\"  />\\n                            <label for=\"p_method_cashondelivery\"> <img width=\"50\" title=\"الدفع عند التوصيل\" src=\\'https://cdn.jamalon.com/skin/frontend/base/default/images/cashondelivery.png\\' >&nbsp;&nbsp;الدفع عند التوصيل</a></label>\\n            </dt>\\n                        <dd id=\"container_payment_method_cashondelivery\" class=\"payment-method\">\\n                    <fieldset class=\"form-list\">\\n        <ul id=\"payment_form_cashondelivery\" style=\"display:none;\" class=\\'list-unstyled\\'>\\n                            <li>سيتم إضافة <span class=\"price\">OMR1.09</span> أجرة الدفع عند التوصيل.</li>\\n                    </ul>\\n    </fieldset>\\n            </dd>\\n                            </dl>\\n    </div>\\n<script type=\"text/javascript\">\\n//<![CDATA[\\n\\n$$(\\'.cvv-what-is-this\\').each(function(element){\\n    Event.observe(element, \\'click\\', toggleToolTip);\\n});\\n\\nfunction toggleToolTip(event){\\n    if($(\\'payment-tool-tip\\')){\\n        $(\\'payment-tool-tip\\').setStyle({\\n            left: (Event.pointerX(event)-100)+\\'px\\',\\n            top: (Event.pointerY(event)-300)+\\'px\\'\\n        });\\n        $(\\'payment-tool-tip\\').toggle();\\n    }\\n    Event.stop(event);\\n}\\n\\nvar checkout = new Checkout();\\n$$(\\'#checkout-payment-method-load dt input\\').invoke(\\'observe\\', \\'click\\', function(e) {\\n\\n    var element = e.element();\\n    var name = \\'payment_form_\\' + element.getValue();\\n    payment.currentMethod = element.getValue();\\n    /* Hide all other forms */\\n    $$(\\'dd.payment-method\\').invoke(\\'hide\\');\\n\\n    if(element.checked) {\\n        payment.switchMethod(payment.currentMethod);\\n        var form = $(name);\\n        var container = $(\\'container_payment_method_\\' + element.getValue());\\n\\n        if(element !== null && container !== null)    {\\n            container.show();\\n            $(name).show();\\n        }\\n    }\\n});\\n\\n\\npayment.switchMethod(payment.currentMethod);\\n//]]>\\n</script>\\n', 'summary': '\\n<table class=\"onestepcheckout-summary\">\\n    <thead>\\n        <tr>\\n            <th class=\"name\">الكتاب</th>\\n            <th class=\"qty\">الكمية</th>\\n            <th class=\"total\">المجموع الفرعي</th>\\n        </tr>\\n    </thead>\\n            <tr>\\n            <td class=\"name\">\\n                الأب الغني الأب الفقير                            </td>\\n            <td class=\"qty\">1</td>\\n            <td class=\"total\">\\n                                    <span class=\"price\">OMR5.77</span>                            </td>\\n        </tr>\\n    </table>\\n\\n<table class=\"onestepcheckout-totals\">\\n        <tr>\\n        <td class=\"a-right cart-points-total_spent\" colspan=\"1\">          \\n            <div class=\"\">النقاط المستهلكة :</div>\\n        </td>\\n        <td class=\"a-right cart-points-total_spent\"> \\n            <div class=\"points-amount\">\\n                0 نقاط            </div>\\n        </td>\\n    </tr>\\n    <tr>\\n        <td class=\"a-right cart-points-total_spent cart-points-spending_warnings\" colspan=\"2\">          \\n                                            </td>\\n    </tr>\\n\\n\\n    <tr>\\n        <td class=\"a-right cart-points-total_earned\" colspan=\"1\">\\n            <div class=\"\">النقاط المكتسبة :</div>\\n        </td>\\n        <td style=\"\" class=\"a-right cart-points-total_earned\"> \\n            <span class=\"price\">\\n                0 نقاط            </span>\\n        </td>\\n    </tr>\\n    \\n<tr>\\n    <td style=\"\" class=\"a-right\" colspan=\"1\">\\n        المجموع الفرعي    </td>\\n    <td style=\"\" class=\"a-right\">\\n        <span class=\"price\">OMR5.77</span>    </td>\\n</tr>\\n<tr>\\n    <td style=\"\" class=\"a-right\" colspan=\"1\">\\n        الشحن (Express Shipping - (7-14 days))    </td>\\n    <td style=\"\" class=\"a-right\">\\n        <span class=\"price\">OMR0.00</span>    </td>\\n</tr>\\n    <tr>\\n    <td style=\"\" class=\"a-right\" colspan=\"1\">\\n        <strong>المجموع الكلّي</strong>\\n    </td>\\n    <td style=\"\" class=\"a-right\">\\n        <strong><span class=\"price\">OMR5.77</span></strong>\\n    </td>\\n</tr>\\n</table>\\n<script type=\"text/javascript\">\\n//<![CDATA[\\n    var total = 5.77;\\n    if (payment.reloadcallback) {\\n        var url = \\'https://jamalon.com/ar/onestepcheckout/ajax/paymentrefresh/\\';\\n        paymentrefresh(url);\\n        payment.countreload = 0;\\n        payment.reloadcallback = false;\\n    }\\n//]]>\\n</script>\\n'}\n",
      "الأب الغني الأب الفقير\n",
      "['OMR5.77', '0 نقاط', 'OMR5.77', 'OMR0.00', 'OMR5.77']\n"
     ]
    }
   ],
   "source": [
    "response = requests.post(request_url, cookies=temp).json()\n",
    "print(response)\n",
    "parsed_html = BeautifulSoup(response['summary'])\n",
    "title = parsed_html.body.find('td', attrs={'class': 'name'}).text.strip()\n",
    "prices = list(map(lambda x: x.text.strip(), parsed_html.body.find_all('span', attrs={'class': 'price'})))\n",
    "\n",
    "print(title)\n",
    "print(prices)"
   ]
  },
  {
   "cell_type": "code",
   "execution_count": 293,
   "metadata": {},
   "outputs": [],
   "source": [
    "a = requests.post('https://jamalon.com/en/checkout/cart/add/uenc/aHR0cHM6Ly9qYW1hbG9uLmNvbS9lbi8xMDA2NDI0Lmh0bWw_X19fU0lEPVU,/product/2972/')\n"
   ]
  },
  {
   "cell_type": "code",
   "execution_count": 283,
   "metadata": {},
   "outputs": [
    {
     "data": {
      "text/plain": [
       "<RequestsCookieJar[Cookie(version=0, name='frontend', value='4d533mmvp086lu2qh30nn26917', port=None, port_specified=False, domain='.jamalon.com', domain_specified=True, domain_initial_dot=False, path='/', path_specified=True, secure=False, expires=1607699754, discard=False, comment=None, comment_url=None, rest={}, rfc2109=False), Cookie(version=0, name='currency_code', value='T01S', port=None, port_specified=False, domain='.jamalon.com', domain_specified=True, domain_initial_dot=False, path='/ar', path_specified=True, secure=False, expires=1639149354, discard=False, comment=None, comment_url=None, rest={}, rfc2109=False), Cookie(version=0, name='currency_code', value='T01S', port=None, port_specified=False, domain='.jamalon.com', domain_specified=True, domain_initial_dot=False, path='/en', path_specified=True, secure=False, expires=1639149354, discard=False, comment=None, comment_url=None, rest={}, rfc2109=False)]>"
      ]
     },
     "execution_count": 283,
     "metadata": {},
     "output_type": "execute_result"
    }
   ],
   "source": [
    "a.cookies"
   ]
  },
  {
   "cell_type": "code",
   "execution_count": 204,
   "metadata": {},
   "outputs": [],
   "source": [
    "# r = requests.post('https://in.hotjar.com/api/v2/client/sites/1584878/visit-data?sv=7', json=data)\n",
    "# r.content"
   ]
  },
  {
   "cell_type": "markdown",
   "metadata": {},
   "source": [
    "### Crawl using RPA -- slow"
   ]
  },
  {
   "cell_type": "code",
   "execution_count": 5,
   "metadata": {
    "scrolled": true
   },
   "outputs": [
    {
     "ename": "IndexError",
     "evalue": "list index out of range",
     "output_type": "error",
     "traceback": [
      "\u001b[0;31m---------------------------------------------------------------------------\u001b[0m",
      "\u001b[0;31mIndexError\u001b[0m                                Traceback (most recent call last)",
      "\u001b[0;32m<ipython-input-5-c757c907fcc1>\u001b[0m in \u001b[0;36m<module>\u001b[0;34m\u001b[0m\n\u001b[1;32m     17\u001b[0m     \u001b[0mtime\u001b[0m\u001b[0;34m.\u001b[0m\u001b[0msleep\u001b[0m\u001b[0;34m(\u001b[0m\u001b[0;36m1\u001b[0m\u001b[0;34m)\u001b[0m\u001b[0;34m\u001b[0m\u001b[0;34m\u001b[0m\u001b[0m\n\u001b[1;32m     18\u001b[0m \u001b[0;34m\u001b[0m\u001b[0m\n\u001b[0;32m---> 19\u001b[0;31m     \u001b[0mcheckout_button\u001b[0m \u001b[0;34m=\u001b[0m \u001b[0mdriver\u001b[0m\u001b[0;34m.\u001b[0m\u001b[0mfind_elements_by_class_name\u001b[0m\u001b[0;34m(\u001b[0m\u001b[0;34m\"btn-checkout\"\u001b[0m\u001b[0;34m)\u001b[0m\u001b[0;34m[\u001b[0m\u001b[0;34m-\u001b[0m\u001b[0;36m1\u001b[0m\u001b[0;34m]\u001b[0m\u001b[0;34m\u001b[0m\u001b[0;34m\u001b[0m\u001b[0m\n\u001b[0m\u001b[1;32m     20\u001b[0m     \u001b[0mdriver\u001b[0m\u001b[0;34m.\u001b[0m\u001b[0mexecute_script\u001b[0m\u001b[0;34m(\u001b[0m\u001b[0;34m\"arguments[0].scrollIntoView();\"\u001b[0m\u001b[0;34m,\u001b[0m \u001b[0mcheckout_button\u001b[0m\u001b[0;34m)\u001b[0m\u001b[0;34m\u001b[0m\u001b[0;34m\u001b[0m\u001b[0m\n\u001b[1;32m     21\u001b[0m     \u001b[0mcheckout_button\u001b[0m\u001b[0;34m.\u001b[0m\u001b[0mclick\u001b[0m\u001b[0;34m(\u001b[0m\u001b[0;34m)\u001b[0m\u001b[0;34m\u001b[0m\u001b[0;34m\u001b[0m\u001b[0m\n",
      "\u001b[0;31mIndexError\u001b[0m: list index out of range"
     ]
    }
   ],
   "source": [
    "data = {}\n",
    "for url in urls[1:]:\n",
    "    driver.get(url)\n",
    "    \n",
    "    title = driver.find_element_by_xpath('//*[@id=\"content\"]/section/div/div/div[2]/div[1]/div/div[1]').text\n",
    "    sku = driver.find_element_by_xpath('//*[@id=\"content\"]/section/div/div/div[2]/div[2]/div[2]/div[1]/div[2]/ul/li[2]').text\n",
    "    isbn = driver.find_element_by_xpath('//*[@id=\"content\"]/section/div/div/div[2]/div[2]/div[2]/div[1]/div[2]/ul/li[5]').text\n",
    "    \n",
    "    data[title] = {}\n",
    "    data[title][\"sku\"] = sku\n",
    "    data[title][\"isbn\"] = isbn\n",
    "    \n",
    "    add_to_cart_button = driver.find_element_by_class_name(\"btn-cart\")\n",
    "    driver.execute_script(\"arguments[0].scrollIntoView();\", add_to_cart_button)\n",
    "    add_to_cart_button.click()\n",
    "\n",
    "    time.sleep(1)\n",
    "\n",
    "    checkout_button = driver.find_elements_by_class_name(\"btn-checkout\")[-1]\n",
    "    driver.execute_script(\"arguments[0].scrollIntoView();\", checkout_button)\n",
    "    checkout_button.click()\n",
    "    \n",
    "    time.sleep(0.5)\n",
    "\n",
    "    countries = driver.find_element_by_id(\"billing:country_id\").find_elements_by_tag_name(\"option\")\n",
    "    countries = list(filter(lambda x: x.text != '', countries))\n",
    "    \n",
    "    data[title][\"price\"] = {}\n",
    "    \n",
    "    time.sleep(1)\n",
    "\n",
    "    for country in countries:\n",
    "        try:\n",
    "            country.click()\n",
    "            time.sleep(0.5)\n",
    "\n",
    "            totals = driver.find_element_by_class_name(\"onestepcheckout-totals\").find_elements_by_tag_name('tr')\n",
    "            data[title][\"price\"][country.text] = {}\n",
    "            for i in range(1, 4):\n",
    "                totals_info = totals[-i].find_elements_by_tag_name(\"td\")\n",
    "                data[title][\"price\"][country.text][totals_info[0].text] = totals_info[1].text\n",
    "        except NoSuchElementException:\n",
    "            pass\n",
    "\n",
    "        \n",
    "    clear_shopping_cart()\n",
    "    \n",
    "    with open('data.json', 'w') as f:\n",
    "        json.dump(data, f)\n",
    "\n"
   ]
  },
  {
   "cell_type": "code",
   "execution_count": 7,
   "metadata": {
    "scrolled": true
   },
   "outputs": [],
   "source": [
    "with open('data.json', 'w') as f:\n",
    "    json.dump(data, f)"
   ]
  },
  {
   "cell_type": "code",
   "execution_count": null,
   "metadata": {},
   "outputs": [],
   "source": []
  }
 ],
 "metadata": {
  "kernelspec": {
   "display_name": "Python 3",
   "language": "python",
   "name": "python3"
  },
  "language_info": {
   "codemirror_mode": {
    "name": "ipython",
    "version": 3
   },
   "file_extension": ".py",
   "mimetype": "text/x-python",
   "name": "python",
   "nbconvert_exporter": "python",
   "pygments_lexer": "ipython3",
   "version": "3.8.2"
  }
 },
 "nbformat": 4,
 "nbformat_minor": 4
}
