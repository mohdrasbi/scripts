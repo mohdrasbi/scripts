{
 "cells": [
  {
   "cell_type": "code",
   "execution_count": 1,
   "metadata": {},
   "outputs": [],
   "source": [
    "import pandas as pd\n",
    "import json"
   ]
  },
  {
   "cell_type": "code",
   "execution_count": 2,
   "metadata": {},
   "outputs": [],
   "source": [
    "df = pd.DataFrame()"
   ]
  },
  {
   "cell_type": "code",
   "execution_count": 3,
   "metadata": {},
   "outputs": [],
   "source": [
    "with open('data.json') as f:\n",
    "    file = json.load(f)"
   ]
  },
  {
   "cell_type": "code",
   "execution_count": 4,
   "metadata": {
    "scrolled": true
   },
   "outputs": [],
   "source": [
    "dataList = []\n",
    "for k in file:\n",
    "    try:\n",
    "        dataList.append([k, file[k]['sku'], file[k]['isbn'], file[k]['price']])\n",
    "    except KeyError:\n",
    "        pass"
   ]
  },
  {
   "cell_type": "markdown",
   "metadata": {},
   "source": [
    "## Basic fields"
   ]
  },
  {
   "cell_type": "code",
   "execution_count": 5,
   "metadata": {
    "scrolled": true
   },
   "outputs": [],
   "source": [
    "titles = list(map(lambda x: x[0], dataList))\n",
    "skus = list(map(lambda x: x[1], dataList))\n",
    "isbns = list(map(lambda x: x[2], dataList))\n",
    "prices = list(map(lambda x: x[3], dataList))"
   ]
  },
  {
   "cell_type": "markdown",
   "metadata": {},
   "source": [
    "## Get countries"
   ]
  },
  {
   "cell_type": "code",
   "execution_count": 6,
   "metadata": {
    "scrolled": true
   },
   "outputs": [],
   "source": [
    "countries = []\n",
    "for p in prices:\n",
    "    if len(list(p)) > len(countries):\n",
    "        countries = list(p)[:]"
   ]
  },
  {
   "cell_type": "code",
   "execution_count": 7,
   "metadata": {},
   "outputs": [],
   "source": [
    "grand_totals = {}\n",
    "shippings = {}\n",
    "subtotals = {}\n",
    "for c in countries:\n",
    "    for p in prices:\n",
    "        grand_totals[c] = grand_totals.get(c, [])\n",
    "        try:\n",
    "            grand_totals[c].append(p[c]['Grand Total'])\n",
    "        except:\n",
    "            grand_totals[c].append(None)\n",
    "        \n",
    "        shippings[c] = shippings.get(c, [])\n",
    "        try:\n",
    "            found = False\n",
    "            for k in p[c]:\n",
    "                if 'Shipping' in k:\n",
    "                    shippings[c].append(p[c][k])\n",
    "                    found = True\n",
    "            if not found:\n",
    "                shippings[c].append(None)\n",
    "        except:\n",
    "            shippings[c].append(None)\n",
    "        \n",
    "        subtotals[c] = subtotals.get(c, [])\n",
    "        try:\n",
    "            subtotals[c].append(p[c]['Subtotal'])\n",
    "        except:\n",
    "            subtotals[c].append(None)"
   ]
  },
  {
   "cell_type": "code",
   "execution_count": 8,
   "metadata": {
    "scrolled": true
   },
   "outputs": [],
   "source": [
    "df['title'] = titles\n",
    "df['sku'] = skus\n",
    "df['isbn'] = isbns\n",
    "\n",
    "grand_totals_df = df.copy()\n",
    "shippins_df = df.copy()\n",
    "subtotals_df = df.copy()\n",
    "\n",
    "\n",
    "for c in countries:\n",
    "    grand_totals_df[c] = grand_totals[c]\n",
    "    shippins_df[c] = shippings[c]\n",
    "    subtotals_df[c] = subtotals[c]"
   ]
  },
  {
   "cell_type": "code",
   "execution_count": 9,
   "metadata": {},
   "outputs": [],
   "source": [
    "grand_totals_df.to_csv(\"grand_total.csv\", index=False)\n",
    "shippins_df.to_csv(\"shipping.csv\", index=False)\n",
    "subtotals_df.to_csv(\"subtotal.csv\", index=False)"
   ]
  },
  {
   "cell_type": "code",
   "execution_count": null,
   "metadata": {},
   "outputs": [],
   "source": []
  }
 ],
 "metadata": {
  "kernelspec": {
   "display_name": "Python 3",
   "language": "python",
   "name": "python3"
  },
  "language_info": {
   "codemirror_mode": {
    "name": "ipython",
    "version": 3
   },
   "file_extension": ".py",
   "mimetype": "text/x-python",
   "name": "python",
   "nbconvert_exporter": "python",
   "pygments_lexer": "ipython3",
   "version": "3.8.2"
  }
 },
 "nbformat": 4,
 "nbformat_minor": 4
}
